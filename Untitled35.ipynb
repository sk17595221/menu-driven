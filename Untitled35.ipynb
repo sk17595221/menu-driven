{
 "cells": [
  {
   "cell_type": "code",
   "execution_count": null,
   "metadata": {},
   "outputs": [],
   "source": [
    "import os\n",
    "import pyttsx3\n",
    "while True:\n",
    "    pyttsx3.speak(\"hi i am  sumit \")\n",
    "    pyttsx3.speak(\"can i help you \")\n",
    "    print(\"This is menu driven program \")\n",
    "    print(\"\\n1.chrome\")\n",
    "    print(\"\\n2.notepad\")\n",
    "    print(\"\\n3.media player\")\n",
    "    print(\"\\n4.python\")\n",
    "    print(\"\\n5.control panel\")\n",
    "    print(\"\\n6.Internet Explorer\")\n",
    "    print(\"\\n7.vlcplayer\")\n",
    "    print(\"\\n8.Virtual player\")\n",
    "    print(\"\\n9.AnyDesk\")\n",
    "    print(\"\\n10.shutdown\")\n",
    "    print(\"\\n11.restart\")\n",
    "    print(\"\\n12.jupyternotebook\")\n",
    "    print(\"\\n13.exit\")\n",
    "    \n",
    "    print(\"chat with me with your requirements : \"  , end='')\n",
    "    p = input()\n",
    "    if (\"run\" in p)  and (\"chrome\" in p):\n",
    "         os.system(\"chrome\")\n",
    "    elif ((\"run\" in p) or  (\"execute\" in p )) and  ((\"notepad\" in p) or (\"editor\" in p) ) :\n",
    "        os.system(\"notepad\")\n",
    "    elif (\"run\" in p)  and (\"player\" in p) and (\"media\" in p):\n",
    "        os.system(\"wmplayer\")\n",
    "    elif (\"run\" in p) and (\"python\"in p):\n",
    "        os.system(\"python\")\n",
    "    elif (\"run\"in p) and (\"control panel\" in p):\n",
    "        os.system(\"control panel\")\n",
    "    elif (\"run\"in p) and (\"Internet Explorer\" in p):\n",
    "        os.system(\"@start iexplore\")\n",
    "    elif (\"run\"in p) and (\"vlcplayer\" in p):\n",
    "        os.system(\"vlc\")\n",
    "    elif (\"run\"in p) and (\"VirtualBox\" in p):\n",
    "        os.system(\"VirtualBox\")\n",
    "    elif (\"run\"in p) and (\"AnyDesk\" in p):\n",
    "        os.system(\"AnyDesk\")\n",
    "    elif (\"run\"in p) and (\"poweroff\" in p):\n",
    "        os.system(\"shutdown /s\")\n",
    "    elif (\"run\"in p) and (\"restart\" in p):\n",
    "        os.system(\"shutdown /r\")\n",
    "    elif (\"run\"in p) and (\"jupyternotebook\" in p):\n",
    "        os.system(\"jupyter notebook\")    \n",
    "    elif  (\"exit\" in p)  or (\"quit\" in p):\n",
    "        break\n",
    "    else:\n",
    "        print(\"don't support\")"
   ]
  },
  {
   "cell_type": "code",
   "execution_count": null,
   "metadata": {},
   "outputs": [],
   "source": []
  }
 ],
 "metadata": {
  "kernelspec": {
   "display_name": "Python 3",
   "language": "python",
   "name": "python3"
  },
  "language_info": {
   "codemirror_mode": {
    "name": "ipython",
    "version": 3
   },
   "file_extension": ".py",
   "mimetype": "text/x-python",
   "name": "python",
   "nbconvert_exporter": "python",
   "pygments_lexer": "ipython3",
   "version": "3.8.3"
  }
 },
 "nbformat": 4,
 "nbformat_minor": 4
}
